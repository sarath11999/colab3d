{
  "nbformat": 4,
  "nbformat_minor": 0,
  "metadata": {
    "colab": {
      "provenance": [],
      "gpuType": "T4",
      "machine_shape": "hm",
      "mount_file_id": "1plJrtUbuxWXrFxLfdOwAB3nYnl1iBDCe",
      "authorship_tag": "ABX9TyP6q9SBPViMGJhrlMbq1gmm",
      "include_colab_link": true
    },
    "kernelspec": {
      "name": "python3",
      "display_name": "Python 3"
    },
    "language_info": {
      "name": "python"
    },
    "accelerator": "GPU"
  },
  "cells": [
    {
      "cell_type": "markdown",
      "metadata": {
        "id": "view-in-github",
        "colab_type": "text"
      },
      "source": [
        "<a href=\"https://colab.research.google.com/github/sarath11999/colab3d/blob/main/SolarModelSarath.ipynb\" target=\"_parent\"><img src=\"https://colab.research.google.com/assets/colab-badge.svg\" alt=\"Open In Colab\"/></a>"
      ]
    },
    {
      "cell_type": "code",
      "execution_count": 1,
      "metadata": {
        "id": "_mOc6qEaQpgV"
      },
      "outputs": [],
      "source": [
        "import numpy as np\n",
        "import pandas as pd\n",
        "import matplotlib.pyplot as plt\n",
        "import seaborn as sns"
      ]
    },
    {
      "cell_type": "code",
      "source": [
        "import torch\n",
        "from sklearn.model_selection import train_test_split\n",
        "from sklearn.preprocessing import StandardScaler\n",
        "from torch.utils.data import Dataset, DataLoader, Subset\n",
        "from torch import nn\n",
        "import math"
      ],
      "metadata": {
        "id": "83PHtbeQRY53"
      },
      "execution_count": 2,
      "outputs": []
    },
    {
      "cell_type": "code",
      "source": [
        "from google.colab import drive\n",
        "drive.mount(\"/content/drive\")"
      ],
      "metadata": {
        "colab": {
          "base_uri": "https://localhost:8080/"
        },
        "id": "-Pp8XGAQRa4A",
        "outputId": "7c0f9f24-b647-477f-99b9-05727a2a46ef"
      },
      "execution_count": 3,
      "outputs": [
        {
          "output_type": "stream",
          "name": "stdout",
          "text": [
            "Drive already mounted at /content/drive; to attempt to forcibly remount, call drive.mount(\"/content/drive\", force_remount=True).\n"
          ]
        }
      ]
    },
    {
      "cell_type": "code",
      "source": [
        "small_input_paths = ['/content/drive/MyDrive/DOE_3D_Solar_Visibility/Historical_Data/small-system/measurements/measured_active_power.csv',\n",
        "                     '/content/drive/MyDrive/DOE_3D_Solar_Visibility/Historical_Data/small-system/measurements/measured_reactive_power.csv',\n",
        "                     '/content/drive/MyDrive/DOE_3D_Solar_Visibility/Historical_Data/small-system/measurements/measured_voltage_angles.csv',\n",
        "                     '/content/drive/MyDrive/DOE_3D_Solar_Visibility/Historical_Data/small-system/measurements/measured_voltage_magnitudes.csv']\n",
        "\n",
        "small_target_paths = ['/content/drive/MyDrive/DOE_3D_Solar_Visibility/Historical_Data/small-system/voltages/actual_voltage_magnitudes.csv',\n",
        "                      '/content/drive/MyDrive/DOE_3D_Solar_Visibility/Historical_Data/small-system/voltages/actual_voltage_angles.csv']"
      ],
      "metadata": {
        "id": "L4aUx-ZbRxpf"
      },
      "execution_count": 4,
      "outputs": []
    },
    {
      "cell_type": "code",
      "source": [
        "large_input_paths = ['/content/drive/MyDrive/DOE_3D_Solar_Visibility/Historical_Data/large-system/measurements/measured_active_power.csv',\n",
        "                     '/content/drive/MyDrive/DOE_3D_Solar_Visibility/Historical_Data/large-system/measurements/measured_reactive_power.csv',\n",
        "                     '/content/drive/MyDrive/DOE_3D_Solar_Visibility/Historical_Data/large-system/measurements/measured_voltage_angles.csv',\n",
        "                     '/content/drive/MyDrive/DOE_3D_Solar_Visibility/Historical_Data/large-system/measurements/measured_voltage_magnitudes.csv']\n",
        "\n",
        "large_target_paths = ['/content/drive/MyDrive/DOE_3D_Solar_Visibility/Historical_Data/large-system/voltages/actual_voltage_magnitudes.csv',\n",
        "                      '/content/drive/MyDrive/DOE_3D_Solar_Visibility/Historical_Data/large-system/voltages/actual_voltage_angles.csv']"
      ],
      "metadata": {
        "id": "46Ve9i41dNXT"
      },
      "execution_count": 5,
      "outputs": []
    },
    {
      "cell_type": "code",
      "source": [
        "from sklearn.preprocessing import StandardScaler\n",
        "import torch\n",
        "import pandas as pd\n",
        "import numpy as np\n",
        "\n",
        "class CustomDataset01(Dataset):\n",
        "    def __init__(self, inputs, targets, input_scalers=None, target_scalers=None):\n",
        "        self.inputs_df = [self.encode_time_and_dropzeros(input_path) for input_path in inputs]\n",
        "        self.targets_df = [self.encode_time_and_dropzeros(target_path, target=True) for target_path in targets]\n",
        "\n",
        "        # Initialize scalers if they are not passed\n",
        "        if input_scalers is None:\n",
        "            self.input_scalers = [StandardScaler() for _ in inputs]\n",
        "        else:\n",
        "            self.input_scalers = input_scalers\n",
        "\n",
        "        if target_scalers is None:\n",
        "            self.target_scalers = [StandardScaler() for _ in targets]\n",
        "        else:\n",
        "            self.target_scalers = target_scalers\n",
        "\n",
        "        # Fit scalers only on inputs and targets\n",
        "        self._fit_scalers()\n",
        "\n",
        "    def encode_time_and_dropzeros(self, path, target=False):\n",
        "        df = pd.read_csv(path, parse_dates=True, index_col='Timestep')\n",
        "        if not target:\n",
        "            # Ensure the index is a DatetimeIndex\n",
        "            if not isinstance(df.index, pd.DatetimeIndex):\n",
        "                raise ValueError(\"The DataFrame index must be a DatetimeIndex.\")\n",
        "\n",
        "            # Extract relevant time information\n",
        "            hours = df.index.hour\n",
        "            day_of_week = df.index.dayofweek  # Monday=0, Sunday=6\n",
        "            day_of_year = df.index.dayofyear   # 1 through 365 (or 366 for leap year)\n",
        "            day_of_month = df.index.day        # 1 through 31\n",
        "\n",
        "            # Calculate sine and cosine encodings\n",
        "            df['sin_hour'] = np.sin(2 * np.pi * hours / 24)\n",
        "            df['cos_hour'] = np.cos(2 * np.pi * hours / 24)\n",
        "\n",
        "            df['sin_day_of_week'] = np.sin(2 * np.pi * day_of_week / 7)\n",
        "            df['cos_day_of_week'] = np.cos(2 * np.pi * day_of_week / 7)\n",
        "\n",
        "            df['sin_day_of_year'] = np.sin(2 * np.pi * day_of_year / 365)\n",
        "            df['cos_day_of_year'] = np.cos(2 * np.pi * day_of_year / 365)\n",
        "\n",
        "            df['sin_day_of_month'] = np.sin(2 * np.pi * day_of_month / 31)\n",
        "            df['cos_day_of_month'] = np.cos(2 * np.pi * day_of_month / 31)\n",
        "\n",
        "            df = df.loc[:, (df != 0).any(axis=0)]\n",
        "        return df\n",
        "\n",
        "    def _fit_scalers(self):\n",
        "        \"\"\"Fit the scalers on the inputs and targets\"\"\"\n",
        "        for i, input_df in enumerate(self.inputs_df):\n",
        "            self.input_scalers[i].fit(input_df)\n",
        "\n",
        "        for j, target_df in enumerate(self.targets_df):\n",
        "            self.target_scalers[j].fit(target_df)\n",
        "\n",
        "    def standardize_data(self, df, scaler):\n",
        "        \"\"\"Standardize the given DataFrame using the scaler\"\"\"\n",
        "        return pd.DataFrame(scaler.transform(df), index=df.index, columns=df.columns)\n",
        "\n",
        "    def __len__(self):\n",
        "        return len(self.inputs_df[0])\n",
        "\n",
        "    def __getitem__(self, index):\n",
        "        # Standardize inputs\n",
        "        inputs = [torch.tensor(self.standardize_data(input_df.iloc[[index]], self.input_scalers[i]).values[0], dtype=torch.float32)\n",
        "                  for i, input_df in enumerate(self.inputs_df)]\n",
        "\n",
        "        # Standardize targets\n",
        "        targets = [torch.tensor(self.standardize_data(target_df.iloc[[index]], self.target_scalers[j]).values[0], dtype=torch.float32)\n",
        "                   for j, target_df in enumerate(self.targets_df)]\n",
        "\n",
        "        return (*inputs, *targets)\n",
        "\n",
        "\n",
        "def train_test_split(dataset, test_days=10):\n",
        "    test_length = test_days * 48\n",
        "    train_length = len(dataset) - test_length\n",
        "    train_data = Subset(dataset, range(train_length))\n",
        "    test_data = Subset(dataset, range(train_length, len(dataset)))\n",
        "    return train_data, test_data"
      ],
      "metadata": {
        "id": "RuARTnhqfPG8"
      },
      "execution_count": 6,
      "outputs": []
    },
    {
      "cell_type": "markdown",
      "source": [
        " **Small Dataset**"
      ],
      "metadata": {
        "id": "JY5kFzAMjiv5"
      }
    },
    {
      "cell_type": "code",
      "source": [
        "full_dataset=CustomDataset01(inputs=small_input_paths, targets=small_target_paths)"
      ],
      "metadata": {
        "id": "RJTiWRqEjMa-"
      },
      "execution_count": 7,
      "outputs": []
    },
    {
      "cell_type": "code",
      "source": [
        "# Print means and standard deviations for input data scalers\n",
        "print(\"Input Data Scalers:\")\n",
        "for i, scaler in enumerate(full_dataset.input_scalers):\n",
        "    print(f\"Input {i + 1} Mean: {scaler.mean_}\")\n",
        "    print(f\"Input {i + 1} Standard Deviation: {scaler.scale_}\")\n",
        "\n",
        "# Print means and standard deviations for target data scalers\n",
        "print(\"\\nTarget Data Scalers:\")\n",
        "for j, scaler in enumerate(full_dataset.target_scalers):\n",
        "    print(f\"Target {j + 1} Mean: {scaler.mean_}\")\n",
        "    print(f\"Target {j + 1} Standard Deviation: {scaler.scale_}\")\n"
      ],
      "metadata": {
        "colab": {
          "base_uri": "https://localhost:8080/"
        },
        "id": "HdawItbeygLK",
        "outputId": "e2593f1e-24bd-4c8a-882e-4bbc94c4e1d1"
      },
      "execution_count": 8,
      "outputs": [
        {
          "output_type": "stream",
          "name": "stdout",
          "text": [
            "Input Data Scalers:\n",
            "Input 1 Mean: [-3.47852602e+02 -4.23605285e+02 -3.44024679e+02 -1.97638655e+01\n",
            " -2.55703044e+01  7.11860814e+00  2.21516096e+00  1.38069380e+01\n",
            "  1.41827551e+00  1.92272315e+01  4.90920981e+00  4.90920947e+00\n",
            "  7.17925156e+00  7.23606287e+00 -2.68849428e+01 -2.68910398e+01\n",
            "  4.54362453e+00  5.10189879e+00  4.84636073e+00 -1.58359095e+01\n",
            " -1.10734202e+01  1.70058913e+01  1.57533634e+01  1.27865902e+01\n",
            "  1.27865904e+01  3.01275368e+00  3.01275368e+00  2.55583463e+01\n",
            "  2.55583452e+01  2.31192478e+01  2.31192469e+01  2.31192470e+01\n",
            "  1.23808638e+02  1.26068550e+02  4.49951588e+01  4.49951538e+01\n",
            "  4.49951563e+01  2.48386481e+01  2.50740844e+01  2.48386456e+01\n",
            "  1.92770560e+01  1.92770577e+01 -8.33333333e-02 -6.32979509e-01\n",
            "  1.08325324e-02  2.47245482e-03  6.53420383e-01 -6.23197782e-01\n",
            "  2.23665022e-03 -3.31058882e-02]\n",
            "Input 1 Standard Deviation: [107.13904694 108.04386116 116.34168055  18.14819146  14.7636647\n",
            "   3.31225882   1.1934073    2.97861238   0.48862668   4.78683934\n",
            "   1.32991523   1.32991526   2.49173025   1.88378272  15.66553781\n",
            "  15.66884945   1.72526516   3.37155886   2.26322076  14.07690955\n",
            "  16.91529582   2.71943046   4.09787447   3.55335508   3.55335541\n",
            "   0.8626546    0.8626546    5.82984814   5.82984778   7.94257384\n",
            "   7.94257334   7.94257347  50.36021392  44.66344434  16.93019103\n",
            "  16.93018792  16.93018965   6.03511809   8.54404008   6.03511685\n",
            "   6.30381006   6.30381189   0.70217915   0.31517763   0.70347514\n",
            "   0.71063301   0.29717183   0.31041139   0.71847855   0.6947572 ]\n",
            "Input 2 Mean: [-1.18569863e+02 -1.14296623e+02 -1.01613749e+02  8.45988761e+00\n",
            "  1.02498820e+01  1.17552683e+00  1.85538956e+00  9.25134191e-01\n",
            "  4.07631682e+00  4.81625731e+00  5.35450536e-01  5.35448392e-01\n",
            "  4.91800425e-01  4.94694350e-01  5.90755226e-01  6.42191464e-01\n",
            "  7.28092712e-01  1.22319913e+00  1.16056378e+00  1.70944883e+00\n",
            "  1.73337477e+00  8.78837325e+00  7.74055211e+00  2.44447050e+00\n",
            "  2.44446500e+00  8.37602379e-02  8.37600696e-02  1.08107277e+01\n",
            "  1.08107276e+01  1.09941579e+00  1.09941522e+00  1.09941576e+00\n",
            "  1.27804974e+01  1.33376014e+01  6.83025346e+00  6.83024654e+00\n",
            "  6.83024831e+00  5.67088570e+00  5.71515644e+00  5.67088159e+00\n",
            "  1.09865127e+01  1.09865145e+01 -8.33333333e-02 -6.32979509e-01\n",
            "  1.08325324e-02  2.47245482e-03  6.53420383e-01 -6.23197782e-01\n",
            "  2.23665022e-03 -3.31058882e-02]\n",
            "Input 2 Standard Deviation: [2.64365176e+01 2.39327600e+01 2.19049299e+01 5.54039429e+00\n",
            " 5.23366682e+00 3.03765276e-01 5.20636631e-01 2.30100172e-01\n",
            " 1.38476827e+00 1.12380496e+00 1.76360984e-01 1.76361263e-01\n",
            " 2.11850665e-01 1.33318725e-01 2.94239077e-01 3.15509920e-01\n",
            " 3.87859682e-01 7.45467092e-01 5.24600512e-01 3.66348590e-01\n",
            " 6.30220997e-01 1.19228838e+00 2.55790022e+00 6.50079338e-01\n",
            " 6.50080238e-01 1.62048753e-02 1.62047618e-02 2.14860992e+00\n",
            " 2.14861068e+00 3.59052155e-01 3.59052054e-01 3.59052273e-01\n",
            " 6.06309257e+00 4.84435896e+00 2.52028285e+00 2.52027978e+00\n",
            " 2.52028011e+00 1.17414878e+00 1.75875533e+00 1.17414601e+00\n",
            " 2.16924282e+00 2.16924522e+00 7.02179148e-01 3.15177634e-01\n",
            " 7.03475141e-01 7.10633006e-01 2.97171825e-01 3.10411394e-01\n",
            " 7.18478552e-01 6.94757201e-01]\n",
            "Input 3 Mean: [-4.13972993e-08 -2.09439516e+00  2.09439506e+00 -1.04085416e+00\n",
            " -8.33333333e-02 -6.32979509e-01  1.08325324e-02  2.47245482e-03\n",
            "  6.53420383e-01 -6.23197782e-01  2.23665022e-03 -3.31058882e-02]\n",
            "Input 3 Standard Deviation: [1.66902540e-08 1.56437741e-08 1.84223683e-08 5.24858335e-03\n",
            " 7.02179148e-01 3.15177634e-01 7.03475141e-01 7.10633006e-01\n",
            " 2.97171825e-01 3.10411394e-01 7.18478552e-01 6.94757201e-01]\n",
            "Input 4 Mean: [ 7.41458463e+03  7.41458453e+03  7.41458466e+03  1.21628358e+02\n",
            "  1.21824512e+02  1.22677929e+02  1.22987227e+02  1.23060131e+02\n",
            "  1.21775617e+02  1.22003507e+02  1.21978931e+02  1.22088883e+02\n",
            "  1.25053766e+02  1.25323873e+02  1.31622624e+02  1.23386840e+02\n",
            "  1.23728612e+02  1.22795670e+02  1.24296617e+02  1.24335129e+02\n",
            "  1.20422634e+02  1.20777305e+02  1.20998250e+02  1.21800432e+02\n",
            "  1.23004475e+02  2.75786427e+02  2.75760642e+02  2.79986951e+02\n",
            "  2.80030099e+02  2.76404952e+02  2.75750362e+02  2.75067431e+02\n",
            "  2.79019472e+02  2.78995652e+02  2.79073211e+02  2.78166517e+02\n",
            "  2.78048924e+02  2.77094784e+02 -8.33333333e-02 -6.32979509e-01\n",
            "  1.08325324e-02  2.47245482e-03  6.53420383e-01 -6.23197782e-01\n",
            "  2.23665022e-03 -3.31058882e-02]\n",
            "Input 4 Standard Deviation: [24.81963278 24.81963265 24.81963247  0.64278059  0.45349778  0.44170514\n",
            "  0.44141572  0.43605684  0.58295496  0.55324747  0.56170038  0.54465075\n",
            "  1.94439681  1.92302193  5.20448409  0.97745953  2.12472921  0.52951704\n",
            "  0.86540591  0.76332589  0.59016506  0.55884605  1.77651172  0.62322779\n",
            "  0.42678273  2.2845673   2.28147     2.02296596  2.01859134  3.62812836\n",
            "  3.46321792  4.01758476  2.48609639  2.48730032  2.48489576  2.02457297\n",
            "  1.9773299   2.34430829  0.70217915  0.31517763  0.70347514  0.71063301\n",
            "  0.29717183  0.31041139  0.71847855  0.6947572 ]\n",
            "\n",
            "Target Data Scalers:\n",
            "Target 1 Mean: [7415.54396357 7415.54386714 7415.54399148  122.69777927  122.72536064\n",
            "  121.8095177   121.84024083  124.44779322  124.87336271  125.06462841\n",
            "  125.48756891  122.51113388  122.94530569  122.1485257   122.5847197\n",
            "  121.94024935  122.37760435  122.74639129  122.8101305   122.63000389\n",
            "  122.69406443  122.53815315  122.60244571  122.40300766  122.46765933\n",
            "  123.08974523  123.16257396  123.0027138   123.07569272  121.38892361\n",
            "  121.59169813  121.15789114  121.36255279  121.95732773  122.15546286\n",
            "  121.86362085  122.06148471  121.78950644  121.98715156  122.4474261\n",
            "  122.55390159  122.02015251  122.12949463  122.2474061   122.35538752\n",
            "  121.99529139  122.10517134  125.62531556  125.65641669  125.30701407\n",
            "  125.33804158  130.76260831  130.79018971  131.60756235  131.63477617\n",
            "  123.63786159  123.67132226  123.2413005   123.27472384  123.03946935\n",
            "  123.07287357  123.04499318  123.09230637  122.84050484  122.88826677\n",
            "  123.72596221  123.75076471  124.31225122  124.33627795  121.28773201\n",
            "  121.63336398  120.43731249  120.79217746  122.35368101  122.45269163\n",
            "  121.71447043  121.81659131  101.93486501  102.04391507  101.75795372\n",
            "  101.86770386  123.21587815  123.22234175  123.01355783  123.02023291\n",
            " 7408.18744524 7408.15845843 7403.72891056 7402.64001605 6163.9259315\n",
            " 6163.66736091 7413.04427504 7413.12000571 7413.10094991 7412.88168008\n",
            " 7413.76866604  276.18188551  276.15616139  276.22509966  275.82976738\n",
            "  275.80393779  275.87295353  280.19453114  280.16839145  280.2376721\n",
            "  280.02182702  279.99560785  280.06494914 7408.89352249 7408.24673605\n",
            " 7409.97639917 7408.85401335 7408.18744689 7409.95314058 7409.01391381\n",
            " 7408.39151982 7410.0767569  7409.80442492 7409.14631574 7410.62543715\n",
            "  276.72131524  276.5724285   276.75039369  275.93384287  275.78356506\n",
            "  275.96188804  233.17989827  233.04058592  233.21199769  232.9421942\n",
            "  232.80238169  232.97389218 6167.94854676 6164.56880423 6168.66363056\n",
            " 6167.47516384 6163.92593427 6168.29018666 7403.06273852 7399.43151731\n",
            " 7403.72891723 7402.15726877 7398.41683055 7402.88717309 7404.14920774\n",
            " 7400.9198653  7405.25826136 7404.66160207 7401.65153272 7405.86364594\n",
            " 7405.67848738 7403.19045573 7406.97658936 7408.36891431 7407.62052134\n",
            " 7409.53648564 7409.76720965 7409.10719186 7410.5891133  7408.39798405\n",
            " 7407.65964315 7409.57280793 7413.10090297 7412.88163068 7413.76861548\n",
            "  279.59348725  279.56987616  279.64694496  279.06488742  279.0410208\n",
            "  279.11857481  278.31702764  278.29207491  278.37616427  278.03309231\n",
            "  278.00798965  278.09235903  277.51015128  277.48506826  277.56933453\n",
            "  277.14752937  277.12224606  277.20679959 7411.54933579 7410.91716776\n",
            " 7413.04427228 7411.50501663 7410.87283697 7412.99996416 7411.61351888\n",
            " 7410.95513985 7413.0790028  7411.74498751 7411.1451292  7413.10411085]\n",
            "Target 1 Standard Deviation: [1.70511733e-04 1.76409403e-04 1.79996757e-04 1.13328336e-01\n",
            " 1.10445560e-01 2.07009982e-01 2.02896961e-01 1.01196960e+00\n",
            " 1.18668567e+00 1.36319305e+00 1.53868031e+00 2.61399543e-01\n",
            " 1.92499438e-01 3.32447882e-01 2.65582760e-01 3.80585273e-01\n",
            " 3.15748673e-01 1.56334222e-01 1.44196068e-01 1.79581449e-01\n",
            " 1.67496065e-01 1.80279553e-01 1.67118443e-01 1.97548972e-01\n",
            " 1.83956314e-01 1.23970889e-01 1.06961502e-01 1.60826047e-01\n",
            " 1.44698776e-01 4.94725709e-01 4.38858122e-01 5.42156228e-01\n",
            " 4.86404364e-01 3.82051165e-01 3.25357693e-01 4.08598500e-01\n",
            " 3.51429778e-01 4.29972123e-01 3.72548261e-01 2.77187396e-01\n",
            " 2.52568265e-01 3.83596290e-01 3.57580830e-01 3.29390694e-01\n",
            " 3.04356556e-01 3.96222085e-01 3.70606957e-01 1.85422398e+00\n",
            " 1.85903724e+00 1.88101653e+00 1.88537178e+00 4.72303861e+00\n",
            " 4.72448959e+00 5.19627636e+00 5.19735131e+00 2.19698787e-01\n",
            " 2.26372494e-01 2.61819514e-01 2.65439853e-01 2.92111817e-01\n",
            " 2.94420820e-01 1.96855867e-01 1.76934246e-01 2.91703433e-01\n",
            " 2.71310698e-01 2.29934500e-01 2.30462469e-01 7.63479305e-01\n",
            " 7.63324658e-01 3.11267170e-01 2.66369845e-01 4.39558986e-01\n",
            " 3.93923436e-01 3.29611108e-01 3.04175999e-01 5.08066622e-01\n",
            " 4.81102464e-01 4.55874780e+01 4.56360787e+01 4.55086700e+01\n",
            " 4.55575499e+01 8.57842051e-02 8.54040202e-02 1.29188094e-01\n",
            " 1.28545278e-01 1.81040681e+00 1.81040228e+00 3.85969915e+00\n",
            " 3.88424781e+00 2.75659535e+03 2.75647979e+03 1.08293972e+00\n",
            " 1.15596492e+00 6.21316438e-01 6.19906198e-01 6.62422789e-01\n",
            " 2.02438379e+00 2.02108779e+00 2.01169258e+00 2.10187879e+00\n",
            " 2.09860442e+00 2.08918093e+00 1.76611965e+00 1.76562594e+00\n",
            " 1.76123183e+00 1.82504557e+00 1.82457291e+00 1.82015484e+00\n",
            " 1.76212921e+00 1.79988078e+00 1.63609750e+00 1.77296238e+00\n",
            " 1.81040681e+00 1.64688527e+00 1.73743145e+00 1.77672519e+00\n",
            " 1.61365888e+00 1.60467644e+00 1.65195969e+00 1.49425915e+00\n",
            " 3.08093940e+00 3.09050655e+00 3.07230442e+00 3.35910127e+00\n",
            " 3.36909696e+00 3.35075609e+00 1.04299375e+02 1.04237381e+02\n",
            " 1.04313347e+02 1.04195013e+02 1.04132818e+02 1.04208788e+02\n",
            " 2.75839342e+03 2.75688252e+03 2.75871285e+03 2.75818198e+03\n",
            " 2.75659536e+03 2.75854605e+03 4.12950389e+00 4.69765934e+00\n",
            " 3.85969901e+00 4.46670201e+00 5.06513780e+00 4.17055864e+00\n",
            " 3.66784208e+00 4.18905396e+00 3.42681741e+00 3.46551739e+00\n",
            " 3.94596851e+00 3.22018186e+00 3.07278551e+00 3.46451130e+00\n",
            " 2.82483410e+00 2.06141885e+00 2.13415262e+00 1.87411779e+00\n",
            " 1.61654940e+00 1.66476423e+00 1.50443980e+00 2.05094730e+00\n",
            " 2.12133780e+00 1.86377074e+00 6.21329180e-01 6.19920659e-01\n",
            " 6.62433416e-01 2.13155399e+00 2.13276485e+00 2.13018736e+00\n",
            " 2.32686912e+00 2.32817172e+00 2.32539133e+00 1.69582847e+00\n",
            " 1.69135270e+00 1.68535218e+00 1.76363885e+00 1.75920373e+00\n",
            " 1.75309904e+00 2.07939608e+00 2.08375505e+00 2.08364284e+00\n",
            " 2.17968585e+00 2.18410581e+00 2.18390897e+00 9.01849071e-01\n",
            " 8.97170832e-01 1.08293697e+00 9.00084194e-01 8.96817911e-01\n",
            " 1.08277752e+00 8.92339201e-01 8.90149799e-01 1.06273208e+00\n",
            " 8.75085374e-01 8.73264163e-01 1.02586111e+00]\n",
            "Target 2 Mean: [-4.13620115e-08 -2.09439516e+00  2.09439506e+00  2.07845058e+00\n",
            " -1.05957575e+00  2.07724458e+00 -1.06081509e+00  3.62652689e-02\n",
            " -2.56808926e+00  3.95981881e-02 -2.61126899e+00  2.54515962e-02\n",
            " -2.33028671e+00  2.52965301e-02 -2.32168465e+00  2.52069622e-02\n",
            " -2.31884774e+00 -2.10451898e+00  1.03939390e+00 -2.10453791e+00\n",
            "  1.03937200e+00 -2.10449797e+00  1.03940952e+00 -2.10448429e+00\n",
            "  1.03941969e+00 -2.61693015e-03  3.13972553e+00 -2.25005513e-03\n",
            "  3.13427298e+00  2.07611337e+00 -1.06069317e+00  2.07582722e+00\n",
            " -1.06098871e+00  2.07681249e+00 -1.05997107e+00  2.07806030e+00\n",
            " -1.05873938e+00  2.07905074e+00 -1.05776174e+00 -1.43689943e-02\n",
            "  3.13099430e+00 -1.46570986e-02  3.13067910e+00 -1.44869130e-02\n",
            "  3.13086875e+00 -1.46361286e-02  3.13070989e+00  2.10646240e+00\n",
            " -1.03629852e+00  2.10607426e+00 -1.03668237e+00  2.12092364e+00\n",
            " -1.02175529e+00  2.12248737e+00 -1.02017892e+00  2.09956456e+00\n",
            " -1.04325867e+00  2.09934865e+00 -1.04346849e+00  2.09923821e+00\n",
            " -1.04357582e+00 -2.10088820e+00  1.04226194e+00 -2.10086008e+00\n",
            "  1.04228586e+00  2.10057520e+00 -1.04250938e+00  2.10217864e+00\n",
            " -1.04087905e+00 -2.11258588e+00  1.03441859e+00 -2.11071244e+00\n",
            "  1.03621714e+00 -2.11074973e+00  1.03486658e+00 -2.11089363e+00\n",
            "  1.03469334e+00 -1.75506944e+00  8.65219700e-01 -1.75485141e+00\n",
            "  8.65431275e-01 -4.74845977e-03  3.13783553e+00 -5.06537114e-03\n",
            "  3.13751636e+00 -2.09533001e+00 -2.09533164e+00  2.09237676e+00\n",
            "  2.09228298e+00 -1.74721376e+00 -1.74722305e+00  2.09409401e+00\n",
            "  2.09410522e+00 -1.99422681e-04 -2.09474183e+00  2.09415854e+00\n",
            " -2.57378711e-02 -2.12048901e+00  2.06842626e+00 -2.64894725e-02\n",
            " -2.12124054e+00  2.06767478e+00 -2.89075858e-02 -2.12366441e+00\n",
            "  2.06525578e+00 -2.96615985e-02 -2.12441850e+00  2.06450185e+00\n",
            " -5.73646567e-04 -2.09532043e+00  2.09358244e+00 -5.78286685e-04\n",
            " -2.09533001e+00  2.09357621e+00 -5.61772031e-04 -2.09530247e+00\n",
            "  2.09359626e+00 -4.89835720e-04 -2.09520074e+00  2.09366598e+00\n",
            " -4.52981485e-02 -2.14069351e+00  2.04808916e+00 -4.83989402e-02\n",
            " -2.14379503e+00  2.04498746e+00 -1.66085758e-02 -1.76282670e+00\n",
            "  1.72784446e+00 -1.78207751e-02 -1.76403932e+00  1.72663214e+00\n",
            " -9.76919023e-04 -1.74714467e+00  1.74348380e+00 -1.01464418e-03\n",
            " -1.74721376e+00  1.74343320e+00 -1.00878002e-03 -2.09633682e+00\n",
            "  2.09237677e+00 -1.12255346e-03 -2.09647073e+00  2.09225475e+00\n",
            " -8.44030148e-04 -2.09617577e+00  2.09261426e+00 -8.05605731e-04\n",
            " -2.09609556e+00  2.09272437e+00 -7.38469977e-04 -2.09592207e+00\n",
            "  2.09293813e+00 -6.00051426e-04 -2.09540107e+00  2.09348175e+00\n",
            " -4.92157682e-04 -2.09520411e+00  2.09366258e+00 -5.98410742e-04\n",
            " -2.09539771e+00  2.09348516e+00 -1.99425676e-04 -2.09474183e+00\n",
            "  2.09415853e+00 -2.63220867e-02 -2.12098068e+00  2.06807855e+00\n",
            " -2.82007899e-02 -2.12286066e+00  2.06619945e+00 -2.78292844e-02\n",
            " -2.12250603e+00  2.06658520e+00 -2.87025686e-02 -2.12338001e+00\n",
            "  2.06571164e+00 -1.73841430e-02 -2.11205948e+00  2.07702533e+00\n",
            " -1.79609677e-02 -2.11263681e+00  2.07644803e+00 -3.08653277e-04\n",
            " -2.09498082e+00  2.09409401e+00 -3.11601368e-04 -2.09498377e+00\n",
            "  2.09409106e+00 -3.03313809e-04 -2.09497480e+00  2.09409257e+00\n",
            " -2.98949202e-04 -2.09495322e+00  2.09409188e+00]\n",
            "Target 2 Standard Deviation: [1.65992485e-08 1.55745808e-08 1.83517451e-08 1.80524058e-03\n",
            " 1.42117456e-03 1.93394681e-03 1.55465980e-03 2.50347517e-02\n",
            " 1.75401073e+00 2.67415150e-02 1.68303388e+00 1.94361474e-02\n",
            " 2.07526986e+00 1.94289847e-02 2.08500997e+00 1.94251532e-02\n",
            " 2.08823414e+00 1.63764751e-03 1.30070551e-03 1.63147310e-03\n",
            " 1.29735076e-03 1.62663202e-03 1.29242889e-03 1.61987014e-03\n",
            " 1.28754716e-03 1.39857271e-03 1.04612720e-03 1.41656225e-03\n",
            " 1.91059266e-01 3.79313038e-03 2.78631580e-03 3.85197775e-03\n",
            " 2.84919578e-03 3.65051576e-03 2.63390770e-03 3.43718963e-03\n",
            " 2.45504058e-03 3.29903548e-03 2.35904878e-03 3.66244096e-03\n",
            " 2.72544445e-03 3.76183279e-03 2.83817500e-03 3.68821316e-03\n",
            " 2.75537818e-03 3.72116535e-03 2.79365220e-03 1.08475712e-02\n",
            " 9.48018365e-03 1.08856709e-02 9.52225809e-03 1.84085510e-02\n",
            " 1.71317260e-02 1.91884140e-02 1.79248932e-02 6.02502410e-03\n",
            " 4.59177708e-03 6.04543426e-03 4.61892057e-03 6.05630597e-03\n",
            " 4.63335284e-03 2.57051275e-03 1.87779547e-03 2.56534668e-03\n",
            " 1.87623126e-03 5.67705712e-03 4.28306186e-03 6.64426847e-03\n",
            " 5.27473806e-03 3.12035141e-03 2.24694644e-03 3.06529842e-03\n",
            " 2.23167936e-03 4.56414395e-03 3.45237115e-03 4.63160101e-03\n",
            " 3.53546968e-03 7.84894977e-01 3.86942829e-01 7.84797306e-01\n",
            " 3.87037218e-01 1.28908812e-03 1.06614845e-03 1.37430567e-03\n",
            " 1.14697104e-03 2.51935338e-04 2.51898591e-04 5.31489410e-04\n",
            " 5.34423744e-04 7.81377985e-01 7.81382141e-01 2.02897949e-04\n",
            " 2.11994741e-04 8.65448953e-05 8.87310588e-05 1.03520544e-04\n",
            " 6.39880811e-03 6.42841550e-03 6.39250213e-03 6.59849495e-03\n",
            " 6.62805981e-03 6.59211465e-03 1.00283430e-02 1.00317930e-02\n",
            " 1.00104271e-02 1.02937123e-02 1.02972114e-02 1.02757639e-02\n",
            " 2.59116582e-04 2.50113114e-04 2.24368542e-04 2.60918591e-04\n",
            " 2.51935341e-04 2.26330560e-04 2.55985447e-04 2.46765606e-04\n",
            " 2.20909606e-04 2.38829067e-04 2.29024111e-04 2.02091554e-04\n",
            " 1.65063679e-02 1.65547034e-02 1.64804976e-02 1.76494349e-02\n",
            " 1.76984229e-02 1.76241076e-02 1.02236965e-02 7.88392827e-01\n",
            " 7.72748122e-01 1.09783469e-02 7.88940072e-01 7.72210990e-01\n",
            " 7.44950123e-04 7.81347071e-01 7.79709831e-01 7.64529698e-04\n",
            " 7.81377985e-01 7.79687214e-01 6.26260384e-04 6.12653752e-04\n",
            " 5.31489386e-04 6.61039529e-04 6.59679922e-04 5.75298615e-04\n",
            " 5.79590719e-04 5.48510331e-04 4.69040511e-04 5.44155582e-04\n",
            " 5.18991906e-04 4.40602753e-04 4.75888785e-04 4.60322036e-04\n",
            " 3.85744139e-04 3.09018915e-04 2.92651749e-04 2.48927651e-04\n",
            " 2.40070849e-04 2.30091469e-04 2.03009483e-04 3.07874179e-04\n",
            " 2.91579928e-04 2.47990695e-04 8.65462907e-05 8.87322431e-05\n",
            " 1.03521416e-04 1.01161659e-02 1.01241507e-02 1.01181042e-02\n",
            " 1.08579802e-02 1.08664792e-02 1.08599352e-02 7.02349154e-03\n",
            " 7.04530610e-03 7.00120327e-03 7.25212159e-03 7.27416132e-03\n",
            " 7.22982920e-03 6.64170394e-03 6.63767747e-03 6.65737307e-03\n",
            " 6.89651674e-03 6.89266990e-03 6.91225018e-03 1.13773307e-04\n",
            " 1.24968603e-04 2.02897477e-04 1.13585521e-04 1.24738333e-04\n",
            " 2.02880100e-04 1.13473286e-04 1.24060496e-04 1.97252352e-04\n",
            " 1.12893480e-04 1.22398955e-04 1.86560957e-04]\n"
          ]
        }
      ]
    },
    {
      "cell_type": "code",
      "source": [
        "# Split dataset\n",
        "train_data, test_data = train_test_split(full_dataset, test_days=10)"
      ],
      "metadata": {
        "id": "49n1pfBDjPHc"
      },
      "execution_count": 9,
      "outputs": []
    },
    {
      "cell_type": "code",
      "source": [],
      "metadata": {
        "id": "lvW-1nvk68nW"
      },
      "execution_count": 9,
      "outputs": []
    },
    {
      "cell_type": "code",
      "source": [
        "train_loader = DataLoader(train_data, batch_size=256, shuffle=True)\n",
        "test_loader = DataLoader(test_data, batch_size=256, shuffle=False)"
      ],
      "metadata": {
        "id": "VlWdj85fjs10"
      },
      "execution_count": 10,
      "outputs": []
    },
    {
      "cell_type": "code",
      "source": [
        "for training_data in train_loader:\n",
        "  print(f\"The shapes are: {[data.shape for data in training_data]}\")\n",
        "  break"
      ],
      "metadata": {
        "colab": {
          "base_uri": "https://localhost:8080/"
        },
        "id": "NluSzQn0juXv",
        "outputId": "0fa742a2-6983-4757-a035-2cc56769f85b"
      },
      "execution_count": 11,
      "outputs": [
        {
          "output_type": "stream",
          "name": "stdout",
          "text": [
            "The shapes are: [torch.Size([256, 50]), torch.Size([256, 50]), torch.Size([256, 12]), torch.Size([256, 46]), torch.Size([256, 195]), torch.Size([256, 195])]\n"
          ]
        }
      ]
    },
    {
      "cell_type": "code",
      "source": [
        "for training_data in train_loader:\n",
        "  print(f\"The shapes are: {[data[0][0] for data in training_data]}\")\n",
        "  break"
      ],
      "metadata": {
        "colab": {
          "base_uri": "https://localhost:8080/"
        },
        "id": "tVZrnLNekE43",
        "outputId": "8e25957b-1092-498e-b154-f4dd817e0ba2"
      },
      "execution_count": 12,
      "outputs": [
        {
          "output_type": "stream",
          "name": "stdout",
          "text": [
            "The shapes are: [tensor(-0.2963), tensor(-0.5359), tensor(-0.1380), tensor(-1.0765), tensor(-0.3635), tensor(-0.1964)]\n"
          ]
        }
      ]
    },
    {
      "cell_type": "code",
      "source": [
        "# class PositionalEncoding(nn.Module):\n",
        "#     def __init__(self, d_model, max_len=256):\n",
        "#         super(PositionalEncoding, self).__init__()\n",
        "#         self.dropout = nn.Dropout(p=0.1)\n",
        "\n",
        "#         pe = torch.zeros(max_len, d_model)\n",
        "#         position = torch.arange(0, max_len, dtype=torch.float).unsqueeze(1)\n",
        "#         div_term = torch.exp(torch.arange(0, d_model, 2).float() * -(math.log(10000.0) / d_model))\n",
        "#         pe[:, 0::2] = torch.sin(position * div_term)\n",
        "#         pe[:, 1::2] = torch.cos(position * div_term)\n",
        "#         pe = pe.unsqueeze(0)  # Add batch dimension\n",
        "#         self.register_buffer('pe', pe)\n",
        "\n",
        "#     def forward(self, x):\n",
        "#         seq_len = x.size(1)\n",
        "#         x = x + self.pe[:, :seq_len].clone().detach()\n",
        "#         return self.dropout(x)\n",
        "\n",
        "\n",
        "class TransformerForecastingModel01(nn.Module):\n",
        "    def __init__(self, input_dim, d_model, nhead, num_encoder_layers, dim_feedforward, dropout, output_dim, custom_linear_layers_dim=None, max_len = 256):\n",
        "        super(TransformerForecastingModel01, self).__init__()\n",
        "        # Positional encoding\n",
        "        # self.positional_encoding = PositionalEncoding(d_model, max_len)\n",
        "        self.input_proj1 = nn.Linear(input_dim[0], d_model)\n",
        "        self.input_proj2 = nn.Linear(input_dim[1], d_model)\n",
        "        self.input_proj3 = nn.Linear(input_dim[2], d_model)\n",
        "        self.input_proj4 = nn.Linear(input_dim[3], d_model)\n",
        "\n",
        "\n",
        "        encoder_layer1 = nn.TransformerEncoderLayer(d_model=d_model, nhead=nhead, dim_feedforward=dim_feedforward, dropout=dropout, batch_first=True)\n",
        "        self.transformer_encoder1 = nn.TransformerEncoder(encoder_layer1, num_layers=num_encoder_layers)\n",
        "\n",
        "        encoder_layer2 = nn.TransformerEncoderLayer(d_model=d_model, nhead=nhead, dim_feedforward=dim_feedforward, dropout=dropout, batch_first=True)\n",
        "        self.transformer_encoder2 = nn.TransformerEncoder(encoder_layer2, num_layers=num_encoder_layers)\n",
        "\n",
        "        encoder_layer3 = nn.TransformerEncoderLayer(d_model=d_model, nhead=nhead, dim_feedforward=dim_feedforward, dropout=dropout, batch_first=True)\n",
        "        self.transformer_encoder3 = nn.TransformerEncoder(encoder_layer3, num_layers=num_encoder_layers)\n",
        "\n",
        "        encoder_layer4 = nn.TransformerEncoderLayer(d_model=d_model, nhead=nhead, dim_feedforward=dim_feedforward, dropout=dropout, batch_first=True)\n",
        "        self.transformer_encoder4 = nn.TransformerEncoder(encoder_layer4, num_layers=num_encoder_layers)\n",
        "\n",
        "        if custom_linear_layers_dim:\n",
        "            custom_layers = []\n",
        "            for dim in custom_linear_layers_dim:\n",
        "                custom_layers.append(nn.Linear(d_model, dim))\n",
        "                custom_layers.append(nn.Mish())\n",
        "                d_model = dim\n",
        "            self.custom_layers1 = nn.Sequential(*custom_layers)\n",
        "            self.custom_layers2 = nn.Sequential(*custom_layers)\n",
        "        else:\n",
        "            self.custom_layers1 = None\n",
        "            self.custom_layers2 = None\n",
        "\n",
        "        self.final_proj1 = nn.Linear(d_model, output_dim[0])\n",
        "        self.final_proj2 = nn.Linear(d_model, output_dim[1])\n",
        "\n",
        "        self.init_weights()\n",
        "\n",
        "    def init_weights(self):\n",
        "        for p in self.parameters():\n",
        "            if p.dim() > 1:\n",
        "                nn.init.xavier_uniform_(p)\n",
        "\n",
        "    def forward(self, src1, src2, src3, src4):\n",
        "        src1 = self.input_proj1(src1)\n",
        "        src2 = self.input_proj2(src2)\n",
        "        src3 = self.input_proj3(src3)\n",
        "        src4 = self.input_proj4(src4)\n",
        "\n",
        "        # Apply positional encoding\n",
        "        # src1 = self.positional_encoding(src1)\n",
        "        # src2 = self.positional_encoding(src2)\n",
        "        # src3 = self.positional_encoding(src3)\n",
        "        # src4 = self.positional_encoding(src4)\n",
        "\n",
        "\n",
        "        transformer_output1 = self.transformer_encoder1(src1)\n",
        "        transformer_output2 = self.transformer_encoder2(src2)\n",
        "        transformer_output3 = self.transformer_encoder3(src3)\n",
        "        transformer_output4 = self.transformer_encoder4(src4)\n",
        "\n",
        "        transformer_output = (transformer_output1 + transformer_output2 +\n",
        "                              transformer_output3 + transformer_output4) / 4\n",
        "\n",
        "        if self.custom_layers1:\n",
        "            transformer_output1 = self.custom_layers1(transformer_output)\n",
        "            transformer_output2 = self.custom_layers2(transformer_output)\n",
        "        else:\n",
        "            transformer_output1 = transformer_output\n",
        "            transformer_output2 = transformer_output\n",
        "\n",
        "        transformer_output1 = self.final_proj1(transformer_output1)\n",
        "        transformer_output2 = self.final_proj2(transformer_output2)\n",
        "\n",
        "        return transformer_output1, transformer_output2"
      ],
      "metadata": {
        "id": "Drw7yHrtkc3p"
      },
      "execution_count": 13,
      "outputs": []
    },
    {
      "cell_type": "code",
      "source": [
        "for training_data in train_loader:\n",
        "  print(f\"The shapes are: {[data.shape for data in training_data]}\")\n",
        "  break"
      ],
      "metadata": {
        "colab": {
          "base_uri": "https://localhost:8080/"
        },
        "id": "DvURElWflJmJ",
        "outputId": "53abc177-493b-4044-80f5-979aee71272c"
      },
      "execution_count": 14,
      "outputs": [
        {
          "output_type": "stream",
          "name": "stdout",
          "text": [
            "The shapes are: [torch.Size([256, 50]), torch.Size([256, 50]), torch.Size([256, 12]), torch.Size([256, 46]), torch.Size([256, 195]), torch.Size([256, 195])]\n"
          ]
        }
      ]
    },
    {
      "cell_type": "code",
      "source": [
        "model01= TransformerForecastingModel01(\n",
        "    input_dim=[50, 50, 12, 46],  # dimensions of each input\n",
        "    d_model=256,\n",
        "    nhead=32,\n",
        "    num_encoder_layers=1,\n",
        "    dim_feedforward=4,\n",
        "    dropout=0.7,\n",
        "    output_dim=[195, 195],  # dimensions of each output\n",
        "    custom_linear_layers_dim=[128, 512, 128, 512, 128]\n",
        ")"
      ],
      "metadata": {
        "id": "e4D09fvOlEV6"
      },
      "execution_count": 15,
      "outputs": []
    },
    {
      "cell_type": "code",
      "source": [
        "loss01=nn.L1Loss()\n",
        "optimizer01= torch.optim.Adam(model01.parameters(), lr=0.01)"
      ],
      "metadata": {
        "id": "I4GeE9AMlV7T"
      },
      "execution_count": 16,
      "outputs": []
    },
    {
      "cell_type": "code",
      "source": [
        "device = torch.device('cuda' if torch.cuda.is_available() else 'cpu')\n",
        "device"
      ],
      "metadata": {
        "colab": {
          "base_uri": "https://localhost:8080/"
        },
        "id": "kbmp8C2RlZ4b",
        "outputId": "43d71b62-4526-42aa-a6d2-66936c5607de"
      },
      "execution_count": 17,
      "outputs": [
        {
          "output_type": "execute_result",
          "data": {
            "text/plain": [
              "device(type='cuda')"
            ]
          },
          "metadata": {},
          "execution_count": 17
        }
      ]
    },
    {
      "cell_type": "code",
      "source": [
        "# Ensure to use the appropriate device (CPU or GPU)\n",
        "device = torch.device('cuda' if torch.cuda.is_available() else 'cpu')\n",
        "\n",
        "# Initialize lists to record losses and outputs\n",
        "train_losses = []\n",
        "test_losses = []\n",
        "train_op_1 = []\n",
        "train_op_2 = []\n",
        "test_op_1=[]\n",
        "test_op_2=[]\n",
        "model01.to(device)\n",
        "\n",
        "# Load pre-trained weights if available\n",
        "# model01.load_state_dict(torch.load('model_weights.pth'))\n",
        "\n",
        "epochs = 20\n",
        "for epoch in range(epochs):\n",
        "    model01.train()\n",
        "    total_train_loss = 0  # Track total loss for this epoch\n",
        "\n",
        "    for data in train_loader:\n",
        "        input1, input2, input3, input4, target1, target2 = [x.to(device) for x in data]\n",
        "\n",
        "        optimizer01.zero_grad()  # Zero the gradients\n",
        "\n",
        "        output1, output2 = model01(input1, input2, input3, input4)\n",
        "        if epoch==epochs-1:\n",
        "          train_op_1.extend(output1.detach().cpu().numpy())\n",
        "          train_op_2.extend(output2.detach().cpu().numpy())\n",
        "\n",
        "        # Calculate loss on standardized values\n",
        "        loss1 = loss01(output1.squeeze(), target1)\n",
        "        loss2 = loss01(output2.squeeze(), target2)\n",
        "        combined_loss = loss1 + loss2  # Combine losses\n",
        "\n",
        "        combined_loss.backward()  # Backpropagation\n",
        "        optimizer01.step()  # Update weights\n",
        "\n",
        "        total_train_loss += combined_loss.item()  # Accumulate loss\n",
        "\n",
        "    avg_train_loss = total_train_loss / len(train_loader)\n",
        "    train_losses.append(avg_train_loss)\n",
        "\n",
        "    # Perform inference\n",
        "    model01.eval()\n",
        "    total_test_loss = 0\n",
        "\n",
        "    with torch.no_grad():  # Disable gradient calculation\n",
        "        for data in test_loader:\n",
        "            input1, input2, input3, input4, target1, target2 = [x.to(device) for x in data]\n",
        "\n",
        "            # Perform forward pass\n",
        "            output1, output2 = model01(input1, input2, input3, input4)\n",
        "            if epoch==epochs-1:\n",
        "              test_op_1.extend(output1.detach().cpu().numpy())\n",
        "              test_op_2.extend(output2.detach().cpu().numpy())\n",
        "\n",
        "            # Calculate loss on standardized values\n",
        "            loss1 = loss01(output1.squeeze(), target1)\n",
        "            loss2 = loss01(output2.squeeze(), target2)\n",
        "            combined_loss = loss1 + loss2\n",
        "\n",
        "            total_test_loss += combined_loss.item()  # Accumulate loss\n",
        "\n",
        "    avg_test_loss = total_test_loss / len(test_loader)\n",
        "    test_losses.append(avg_test_loss)\n",
        "\n",
        "    print(f\"Epoch {epoch + 1}/{epochs}, Train Loss: {avg_train_loss}, Test Loss: {avg_test_loss}\")\n"
      ],
      "metadata": {
        "colab": {
          "base_uri": "https://localhost:8080/"
        },
        "id": "1eAW9687leqi",
        "outputId": "12f517e3-ec70-428f-aa86-72f8475fac63"
      },
      "execution_count": 19,
      "outputs": [
        {
          "output_type": "stream",
          "name": "stdout",
          "text": [
            "Epoch 1/20, Train Loss: 0.7604273200035095, Test Loss: 1.6394274830818176\n",
            "Epoch 2/20, Train Loss: 0.7204943060874939, Test Loss: 1.6120469570159912\n",
            "Epoch 3/20, Train Loss: 0.696541142463684, Test Loss: 1.54140043258667\n",
            "Epoch 4/20, Train Loss: 0.6621312896410624, Test Loss: 1.4557822942733765\n",
            "Epoch 5/20, Train Loss: 0.632214633623759, Test Loss: 1.4849218130111694\n",
            "Epoch 6/20, Train Loss: 0.62561590274175, Test Loss: 1.487570583820343\n",
            "Epoch 7/20, Train Loss: 0.6418408751487732, Test Loss: 1.5004319548606873\n",
            "Epoch 8/20, Train Loss: 0.6234551707903544, Test Loss: 1.4877943992614746\n",
            "Epoch 9/20, Train Loss: 0.6205835541089376, Test Loss: 1.4749529957771301\n",
            "Epoch 10/20, Train Loss: 0.6252089818318685, Test Loss: 1.516689419746399\n",
            "Epoch 11/20, Train Loss: 0.618139906724294, Test Loss: 1.5910981893539429\n",
            "Epoch 12/20, Train Loss: 0.6183095773061117, Test Loss: 1.4652915000915527\n",
            "Epoch 13/20, Train Loss: 0.6071726004282634, Test Loss: 1.5408568382263184\n",
            "Epoch 14/20, Train Loss: 0.6115652680397033, Test Loss: 1.5649574995040894\n",
            "Epoch 15/20, Train Loss: 0.6102135499318441, Test Loss: 1.5150033831596375\n",
            "Epoch 16/20, Train Loss: 0.6084279815355936, Test Loss: 1.4852906465530396\n",
            "Epoch 17/20, Train Loss: 0.608971099058787, Test Loss: 1.4984731674194336\n",
            "Epoch 18/20, Train Loss: 0.6306213100751241, Test Loss: 1.4802370071411133\n",
            "Epoch 19/20, Train Loss: 0.6349354147911072, Test Loss: 1.5643234252929688\n",
            "Epoch 20/20, Train Loss: 0.616363791624705, Test Loss: 1.5353549122810364\n"
          ]
        }
      ]
    },
    {
      "cell_type": "code",
      "source": [
        "# Example data\n",
        "epochs_range = range(1, len(train_losses) + 1)  # Assuming train_losses and test_losses have data\n",
        "\n",
        "# Plot train loss\n",
        "plt.figure(figsize=(12, 6))\n",
        "\n",
        "plt.subplot(1, 2, 1)\n",
        "plt.plot(epochs_range, train_losses, label='Train Loss', marker='o')\n",
        "plt.xlabel('Epoch')\n",
        "plt.ylabel('Loss')\n",
        "plt.title('Epoch vs Train Loss')\n",
        "plt.legend()\n",
        "\n",
        "# Plot test loss\n",
        "plt.subplot(1, 2, 2)\n",
        "plt.plot(epochs_range, test_losses, label='Test Loss', marker='o')\n",
        "plt.xlabel('Epoch')\n",
        "plt.ylabel('Loss')\n",
        "plt.title('Epoch vs Test Loss')\n",
        "plt.legend()\n",
        "\n",
        "plt.tight_layout()\n",
        "plt.show()"
      ],
      "metadata": {
        "colab": {
          "base_uri": "https://localhost:8080/",
          "height": 607
        },
        "id": "V22ppBQQ51Q1",
        "outputId": "5121cba9-6c73-4702-f25f-94aca29fc0a4"
      },
      "execution_count": 20,
      "outputs": [
        {
          "output_type": "display_data",
          "data": {
            "text/plain": [
              "<Figure size 1200x600 with 2 Axes>"
            ],
            "image/png": "[encoded data removed]"
          },
          "metadata": {}
        }
      ]
    },
    {
      "cell_type": "code",
      "source": [
        "# Retrieve mean and std values for inputs and targets\n",
        "input_means = [scaler.mean_ for scaler in full_dataset.input_scalers]\n",
        "input_stds = [scaler.scale_ for scaler in full_dataset.input_scalers]\n",
        "\n",
        "target_means = [scaler.mean_ for scaler in full_dataset.target_scalers]\n",
        "target_stds = [scaler.scale_ for scaler in full_dataset.target_scalers]\n",
        "\n",
        "def destandardize(data, mean, std):\n",
        "    \"\"\"Reverse the standardization process.\"\"\"\n",
        "    return data * std + mean\n",
        "\n",
        "# Convert lists to numpy arrays for easier manipulation\n",
        "train_op_1 = np.array(train_op_1)\n",
        "train_op_2 = np.array(train_op_2)\n",
        "test_op_1 = np.array(test_op_1)\n",
        "test_op_2 = np.array(test_op_2)\n",
        "\n",
        "# Apply destandardization for train and test outputs\n",
        "train_op_1_destandardized = destandardize(train_op_1, target_means[0], target_stds[0])\n",
        "train_op_2_destandardized = destandardize(train_op_2, target_means[1], target_stds[1])\n",
        "\n",
        "test_op_1_destandardized = destandardize(test_op_1, target_means[0], target_stds[0])\n",
        "test_op_2_destandardized = destandardize(test_op_2, target_means[1], target_stds[1])\n",
        "\n",
        "# Example print statements to verify results\n",
        "print(\"Train Output 1 (Destandardized):\", train_op_1_destandardized.shape)\n",
        "print(\"Train Output 2 (Destandardized):\", train_op_2_destandardized.shape)\n",
        "print(\"Test Output 1 (Destandardized):\", test_op_1_destandardized.shape)\n",
        "print(\"Test Output 2 (Destandardized):\", test_op_2_destandardized.shape)\n"
      ],
      "metadata": {
        "colab": {
          "base_uri": "https://localhost:8080/"
        },
        "id": "yhtC8NLKrMu-",
        "outputId": "197920bb-471b-466b-f8f3-20751a7f58e6"
      },
      "execution_count": 21,
      "outputs": [
        {
          "output_type": "stream",
          "name": "stdout",
          "text": [
            "Train Output 1 (Destandardized): (3840, 195)\n",
            "Train Output 2 (Destandardized): (3840, 195)\n",
            "Test Output 1 (Destandardized): (480, 195)\n",
            "Test Output 2 (Destandardized): (480, 195)\n"
          ]
        }
      ]
    },
    {
      "cell_type": "code",
      "source": [],
      "metadata": {
        "id": "4eoiBG7S7dyq"
      },
      "execution_count": null,
      "outputs": []
    }
  ]
}